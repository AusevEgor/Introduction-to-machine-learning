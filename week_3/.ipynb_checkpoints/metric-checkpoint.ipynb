{
 "cells": [
  {
   "cell_type": "code",
   "execution_count": 1,
   "metadata": {},
   "outputs": [],
   "source": [
    "import pandas"
   ]
  },
  {
   "cell_type": "code",
   "execution_count": 2,
   "metadata": {},
   "outputs": [],
   "source": [
    "target = pandas.read_csv('classification.csv')"
   ]
  },
  {
   "cell_type": "code",
   "execution_count": 3,
   "metadata": {},
   "outputs": [
    {
     "name": "stdout",
     "output_type": "stream",
     "text": [
      "     true  pred\n",
      "0       1     0\n",
      "1       1     1\n",
      "2       1     1\n",
      "3       0     0\n",
      "4       1     1\n",
      "5       1     1\n",
      "6       1     1\n",
      "7       0     1\n",
      "8       0     0\n",
      "9       0     1\n",
      "10      1     0\n",
      "11      0     1\n",
      "12      1     1\n",
      "13      0     1\n",
      "14      0     0\n",
      "15      0     1\n",
      "16      1     1\n",
      "17      0     1\n",
      "18      0     0\n",
      "19      0     0\n",
      "20      0     1\n",
      "21      1     1\n",
      "22      1     1\n",
      "23      1     0\n",
      "24      0     0\n",
      "25      0     0\n",
      "26      1     1\n",
      "27      1     1\n",
      "28      0     0\n",
      "29      1     0\n",
      "..    ...   ...\n",
      "170     1     1\n",
      "171     0     0\n",
      "172     0     0\n",
      "173     0     0\n",
      "174     0     0\n",
      "175     0     0\n",
      "176     1     0\n",
      "177     0     1\n",
      "178     0     0\n",
      "179     1     0\n",
      "180     0     1\n",
      "181     0     0\n",
      "182     0     0\n",
      "183     1     0\n",
      "184     0     1\n",
      "185     0     0\n",
      "186     1     0\n",
      "187     1     0\n",
      "188     0     0\n",
      "189     1     0\n",
      "190     1     0\n",
      "191     1     0\n",
      "192     1     0\n",
      "193     1     1\n",
      "194     1     0\n",
      "195     0     0\n",
      "196     0     0\n",
      "197     1     0\n",
      "198     0     1\n",
      "199     0     0\n",
      "\n",
      "[200 rows x 2 columns]\n"
     ]
    }
   ],
   "source": [
    "pr"
   ]
  },
  {
   "cell_type": "code",
   "execution_count": null,
   "metadata": {},
   "outputs": [],
   "source": []
  }
 ],
 "metadata": {
  "kernelspec": {
   "display_name": "Python 3",
   "language": "python",
   "name": "python3"
  },
  "language_info": {
   "codemirror_mode": {
    "name": "ipython",
    "version": 3
   },
   "file_extension": ".py",
   "mimetype": "text/x-python",
   "name": "python",
   "nbconvert_exporter": "python",
   "pygments_lexer": "ipython3",
   "version": "3.5.6"
  }
 },
 "nbformat": 4,
 "nbformat_minor": 2
}
