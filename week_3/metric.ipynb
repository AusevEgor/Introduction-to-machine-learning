{
 "cells": [
  {
   "cell_type": "code",
   "execution_count": 18,
   "metadata": {},
   "outputs": [
    {
     "name": "stderr",
     "output_type": "stream",
     "text": [
      "/home/egor/anaconda3/lib/python3.5/importlib/_bootstrap.py:222: RuntimeWarning: numpy.dtype size changed, may indicate binary incompatibility. Expected 96, got 88\n",
      "  return f(*args, **kwds)\n"
     ]
    }
   ],
   "source": [
    "import pandas\n",
    "import numpy as np\n",
    "import sklearn.metrics as m"
   ]
  },
  {
   "cell_type": "code",
   "execution_count": 5,
   "metadata": {},
   "outputs": [],
   "source": [
    "target = pandas.read_csv('classification.csv')"
   ]
  },
  {
   "cell_type": "code",
   "execution_count": 6,
   "metadata": {},
   "outputs": [],
   "source": [
    "true = np.array(target['true'])\n",
    "pred = np.array(target['pred'])"
   ]
  },
  {
   "cell_type": "code",
   "execution_count": 14,
   "metadata": {},
   "outputs": [],
   "source": [
    "tp = 0\n",
    "fp = 0\n",
    "fn = 0\n",
    "tn = 0\n",
    "for i in range(len(true)):\n",
    "    if true[i] == 1 and pred[i] == 1:\n",
    "        tp += 1\n",
    "    if true[i] == 0 and pred[i] == 0:\n",
    "        tn += 1\n",
    "    if true[i] == 0 and pred[i] == 1:\n",
    "        fp += 1\n",
    "    if true[i] == 1 and pred[i] == 0:\n",
    "        fn += 1"
   ]
  },
  {
   "cell_type": "code",
   "execution_count": 17,
   "metadata": {},
   "outputs": [
    {
     "name": "stdout",
     "output_type": "stream",
     "text": [
      "43 34 59 64\n"
     ]
    }
   ],
   "source": [
    "print(tp, fp, fn, tn)"
   ]
  },
  {
   "cell_type": "code",
   "execution_count": 21,
   "metadata": {},
   "outputs": [],
   "source": [
    "acc = m.accuracy_score(true, pred)\n",
    "prec = m.precision_score(true,pred)\n",
    "rec = m.recall_score(true, pred)\n",
    "f1 = m.f1_score(true, pred)"
   ]
  },
  {
   "cell_type": "code",
   "execution_count": 22,
   "metadata": {},
   "outputs": [
    {
     "name": "stdout",
     "output_type": "stream",
     "text": [
      "0.535\n",
      "0.5584415584415584\n",
      "0.4215686274509804\n",
      "0.48044692737430167\n"
     ]
    }
   ],
   "source": [
    "print(acc)\n",
    "print(prec)\n",
    "print(rec)\n",
    "print(f1)"
   ]
  },
  {
   "cell_type": "code",
   "execution_count": 23,
   "metadata": {},
   "outputs": [],
   "source": [
    "clas = pandas.read_csv(\"scores.csv\")"
   ]
  },
  {
   "cell_type": "code",
   "execution_count": 42,
   "metadata": {},
   "outputs": [
    {
     "name": "stdout",
     "output_type": "stream",
     "text": [
      "(200,)\n"
     ]
    }
   ],
   "source": [
    "true = np.array(clas['true'])\n",
    "score_logreg = np.array(clas['score_logreg'])\n",
    "score_svm = np.array(clas['score_svm'])\n",
    "score_knn = np.array(clas['score_knn'])\n",
    "score_tree = np.array(clas['score_tree'])"
   ]
  },
  {
   "cell_type": "code",
   "execution_count": 28,
   "metadata": {},
   "outputs": [
    {
     "name": "stdout",
     "output_type": "stream",
     "text": [
      "0.719187675070028\n",
      "0.7086834733893557\n",
      "0.6351540616246498\n",
      "0.6919267707082833\n"
     ]
    }
   ],
   "source": [
    "roc_log = m.roc_auc_score(true, score_logreg)\n",
    "roc_svm = m.roc_auc_score(true, score_svm)\n",
    "roc_knn = m.roc_auc_score(true, score_knn)\n",
    "roc_tree = m.roc_auc_score(true, score_tree)\n",
    "print(roc_log)\n",
    "print(roc_svm)\n",
    "print(roc_knn)\n",
    "print(roc_tree)"
   ]
  },
  {
   "cell_type": "code",
   "execution_count": 43,
   "metadata": {},
   "outputs": [],
   "source": [
    "pr_log = np.array(m.precision_recall_curve(true, score_logreg))\n",
    "pr_svm = np.array(m.precision_recall_curve(true, score_svm))\n",
    "pr_knn = np.array(m.precision_recall_curve(true, score_knn))\n",
    "pr_tree = np.array(m.precision_recall_curve(true, score_tree))"
   ]
  },
  {
   "cell_type": "code",
   "execution_count": 52,
   "metadata": {},
   "outputs": [
    {
     "name": "stdout",
     "output_type": "stream",
     "text": [
      "0.6302521008403361\n",
      "0.6228070175438597\n",
      "0.6065573770491803\n",
      "0.6517857142857143\n"
     ]
    }
   ],
   "source": [
    "print(fun(pr_log))\n",
    "print(fun(pr_svm))\n",
    "print(fun(pr_knn))\n",
    "print(fun(pr_tree))"
   ]
  },
  {
   "cell_type": "code",
   "execution_count": 50,
   "metadata": {},
   "outputs": [],
   "source": [
    "def fun(pr):\n",
    "    k = []\n",
    "    for i in range(len(pr[0])):\n",
    "        if(pr[1][i] >= 0.7):\n",
    "            k.append(pr[0][i])\n",
    "    k = np.array(k)\n",
    "    return np.max(k)"
   ]
  },
  {
   "cell_type": "code",
   "execution_count": null,
   "metadata": {},
   "outputs": [],
   "source": []
  }
 ],
 "metadata": {
  "kernelspec": {
   "display_name": "Python 3",
   "language": "python",
   "name": "python3"
  },
  "language_info": {
   "codemirror_mode": {
    "name": "ipython",
    "version": 3
   },
   "file_extension": ".py",
   "mimetype": "text/x-python",
   "name": "python",
   "nbconvert_exporter": "python",
   "pygments_lexer": "ipython3",
   "version": "3.5.6"
  }
 },
 "nbformat": 4,
 "nbformat_minor": 2
}
