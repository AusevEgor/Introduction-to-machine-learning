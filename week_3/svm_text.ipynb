{
 "cells": [
  {
   "cell_type": "code",
   "execution_count": 117,
   "metadata": {},
   "outputs": [],
   "source": [
    "from sklearn import datasets\n",
    "import numpy as np\n",
    "from sklearn.feature_extraction.text import TfidfVectorizer\n",
    "from sklearn.svm import SVC\n",
    "from sklearn.model_selection import KFold\n",
    "from sklearn.model_selection import cross_val_score\n",
    "import math"
   ]
  },
  {
   "cell_type": "code",
   "execution_count": 6,
   "metadata": {},
   "outputs": [],
   "source": [
    "groups = datasets.fetch_20newsgroups(subset = 'all', categories = ['alt.atheism', 'sci.space'])"
   ]
  },
  {
   "cell_type": "code",
   "execution_count": 14,
   "metadata": {},
   "outputs": [],
   "source": [
    "target = groups.target\n",
    "features = groups.data"
   ]
  },
  {
   "cell_type": "code",
   "execution_count": 54,
   "metadata": {},
   "outputs": [],
   "source": [
    "nlp = TfidfVectorizer()\n",
    "fea = nlp.fit_transform(features)\n",
    "\n",
    "kf = KFold(n_splits=5,random_state=241, shuffle=True)\n",
    "mas = []\n",
    "for i in range(-5,6):\n",
    "    clf = SVC(C=10**i, random_state=241, kernel='linear')\n",
    "    cvs = cross_val_score(clf, X = fea, y= target, cv=kf, scoring='accuracy')\n",
    "    mas.append(cvs)"
   ]
  },
  {
   "cell_type": "code",
   "execution_count": 55,
   "metadata": {},
   "outputs": [
    {
     "name": "stdout",
     "output_type": "stream",
     "text": [
      "[0.5526360264776301, 0.5526360264776301, 0.5526360264776301, 0.5526360264776301, 0.9501635290987904, 0.9932804406678872, 0.9932804406678872, 0.9932804406678872, 0.9932804406678872, 0.9932804406678872, 0.9932804406678872]\n"
     ]
    }
   ],
   "source": [
    "q = []\n",
    "for i in range(len(mas)):\n",
    "    q.append(np.mean(mas[i]))\n",
    "print(q)"
   ]
  },
  {
   "cell_type": "code",
   "execution_count": 56,
   "metadata": {},
   "outputs": [
    {
     "data": {
      "text/plain": [
       "SVC(C=100000, cache_size=200, class_weight=None, coef0=0.0,\n",
       "  decision_function_shape='ovr', degree=3, gamma='auto', kernel='linear',\n",
       "  max_iter=-1, probability=False, random_state=241, shrinking=True,\n",
       "  tol=0.001, verbose=False)"
      ]
     },
     "execution_count": 56,
     "metadata": {},
     "output_type": "execute_result"
    }
   ],
   "source": [
    "clk = SVC(C = 10**5, random_state=241, kernel='linear')\n",
    "clk.fit(fea, target)"
   ]
  },
  {
   "cell_type": "code",
   "execution_count": 59,
   "metadata": {},
   "outputs": [],
   "source": [
    "data = clk.coef_\n"
   ]
  },
  {
   "cell_type": "code",
   "execution_count": 136,
   "metadata": {},
   "outputs": [
    {
     "name": "stdout",
     "output_type": "stream",
     "text": [
      "[1.08990407 1.10719567 1.12669066 1.15585139 1.1959966  1.24846414\n",
      " 1.25727716 1.29997059 1.97206529 2.72025271]\n"
     ]
    }
   ],
   "source": [
    "d = np.abs(data.data)\n",
    "new_d = np.sort(d)\n",
    "print(new_d[-10:])"
   ]
  },
  {
   "cell_type": "code",
   "execution_count": 159,
   "metadata": {},
   "outputs": [
    {
     "name": "stdout",
     "output_type": "stream",
     "text": [
      "  (0, 5088)\tTrue\n",
      "  (0, 5093)\tTrue\n",
      "  (0, 5776)\tTrue\n",
      "  (0, 12871)\tTrue\n",
      "  (0, 15606)\tTrue\n",
      "  (0, 21850)\tTrue\n",
      "space\n"
     ]
    }
   ],
   "source": [
    "print(data[0] < -1.08)\n",
    "gt = nlp.get_feature_names()\n",
    "print(gt[24019])"
   ]
  },
  {
   "cell_type": "code",
   "execution_count": 167,
   "metadata": {},
   "outputs": [
    {
     "name": "stdout",
     "output_type": "stream",
     "text": [
      "religion\n"
     ]
    }
   ],
   "source": [
    "print(gt[21850])"
   ]
  },
  {
   "cell_type": "code",
   "execution_count": null,
   "metadata": {},
   "outputs": [],
   "source": []
  }
 ],
 "metadata": {
  "kernelspec": {
   "display_name": "Python 3",
   "language": "python",
   "name": "python3"
  },
  "language_info": {
   "codemirror_mode": {
    "name": "ipython",
    "version": 3
   },
   "file_extension": ".py",
   "mimetype": "text/x-python",
   "name": "python",
   "nbconvert_exporter": "python",
   "pygments_lexer": "ipython3",
   "version": "3.5.6"
  }
 },
 "nbformat": 4,
 "nbformat_minor": 2
}
