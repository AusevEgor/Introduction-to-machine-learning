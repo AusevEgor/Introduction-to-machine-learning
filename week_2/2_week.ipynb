{
 "cells": [
  {
   "cell_type": "code",
   "execution_count": 113,
   "metadata": {},
   "outputs": [],
   "source": [
    "import pandas\n",
    "import numpy as np\n",
    "from sklearn.model_selection import KFold\n",
    "from sklearn.neighbors import KNeighborsClassifier\n",
    "from sklearn.model_selection import cross_val_score\n",
    "from sklearn.preprocessing import scale"
   ]
  },
  {
   "cell_type": "code",
   "execution_count": 173,
   "metadata": {},
   "outputs": [
    {
     "name": "stdout",
     "output_type": "stream",
     "text": [
      "0      14.23\n",
      "1      13.20\n",
      "2      13.16\n",
      "3      14.37\n",
      "4      13.24\n",
      "5      14.20\n",
      "6      14.39\n",
      "7      14.06\n",
      "8      14.83\n",
      "9      13.86\n",
      "10     14.10\n",
      "11     14.12\n",
      "12     13.75\n",
      "13     14.75\n",
      "14     14.38\n",
      "15     13.63\n",
      "16     14.30\n",
      "17     13.83\n",
      "18     14.19\n",
      "19     13.64\n",
      "20     14.06\n",
      "21     12.93\n",
      "22     13.71\n",
      "23     12.85\n",
      "24     13.50\n",
      "25     13.05\n",
      "26     13.39\n",
      "27     13.30\n",
      "28     13.87\n",
      "29     14.02\n",
      "       ...  \n",
      "148    13.32\n",
      "149    13.08\n",
      "150    13.50\n",
      "151    12.79\n",
      "152    13.11\n",
      "153    13.23\n",
      "154    12.58\n",
      "155    13.17\n",
      "156    13.84\n",
      "157    12.45\n",
      "158    14.34\n",
      "159    13.48\n",
      "160    12.36\n",
      "161    13.69\n",
      "162    12.85\n",
      "163    12.96\n",
      "164    13.78\n",
      "165    13.73\n",
      "166    13.45\n",
      "167    12.82\n",
      "168    13.58\n",
      "169    13.40\n",
      "170    12.20\n",
      "171    12.77\n",
      "172    14.16\n",
      "173    13.71\n",
      "174    13.40\n",
      "175    13.27\n",
      "176    13.17\n",
      "177    14.13\n",
      "Name: Alcohol, dtype: float64\n"
     ]
    }
   ],
   "source": [
    "data = pandas.read_csv('wine_1.csv')\n",
    "print(data['Alcohol'])"
   ]
  },
  {
   "cell_type": "code",
   "execution_count": 174,
   "metadata": {},
   "outputs": [
    {
     "name": "stdout",
     "output_type": "stream",
     "text": [
      "(178,) (178, 13)\n"
     ]
    }
   ],
   "source": [
    "clas = []\n",
    "features = []\n",
    "temp = []\n",
    "for i in range(len(data['Class'])):\n",
    "    temp = []\n",
    "    clas.append(data['Class'][i])\n",
    "    \n",
    "    temp.append(data['Alcohol'][i])\n",
    "    temp.append(data['Malic_acid'][i])\n",
    "    temp.append(data['Ash'][i])\n",
    "    temp.append(data['Alcaliniti_of_ash'][i])\n",
    "    temp.append(data['Magnesium'][i])\n",
    "    temp.append(data['Total_phenols'][i])\n",
    "    temp.append(data['Flavanoids'][i])\n",
    "    temp.append(data['Nonflavanoid'][i])\n",
    "    temp.append(data['Proanthcyanins'][i])\n",
    "    temp.append(data['Color_instensity'][i])\n",
    "    temp.append(data['Hue'][i])\n",
    "    temp.append(data['OD280'][i])\n",
    "    temp.append(data['Proline'][i])\n",
    "    \n",
    "    features.append(temp)\n",
    "clas = np.array(clas)\n",
    "features = np.array(features)\n",
    "print(clas.shape, features.shape)"
   ]
  },
  {
   "cell_type": "code",
   "execution_count": 183,
   "metadata": {},
   "outputs": [
    {
     "name": "stdout",
     "output_type": "stream",
     "text": [
      "[[ 1.51861254 -0.5622498   0.23205254 ...  0.36217728  1.84791957\n",
      "   1.01300893]\n",
      " [ 0.24628963 -0.49941338 -0.82799632 ...  0.40605066  1.1134493\n",
      "   0.96524152]\n",
      " [ 0.19687903  0.02123125  1.10933436 ...  0.31830389  0.78858745\n",
      "   1.39514818]\n",
      " ...\n",
      " [ 0.33275817  1.74474449 -0.38935541 ... -1.61212515 -1.48544548\n",
      "   0.28057537]\n",
      " [ 0.20923168  0.22769377  0.01273209 ... -1.56825176 -1.40069891\n",
      "   0.29649784]\n",
      " [ 1.39508604  1.58316512  1.36520822 ... -1.52437837 -1.42894777\n",
      "  -0.59516041]]\n"
     ]
    }
   ],
   "source": [
    "features = scale(features)\n",
    "print(features)"
   ]
  },
  {
   "cell_type": "code",
   "execution_count": 185,
   "metadata": {},
   "outputs": [
    {
     "name": "stdout",
     "output_type": "stream",
     "text": [
      "28\n",
      "46\n",
      "0.9776190476190475\n"
     ]
    }
   ],
   "source": [
    "kf = KFold(5, shuffle = True, random_state = 42)\n",
    "cvs = []\n",
    "valid = []\n",
    "\n",
    "for i in range(50):\n",
    "    cl = KNeighborsClassifier(n_neighbors = i+1)\n",
    "    cvs.append(cross_val_score(estimator = cl, X = features, y = clas, cv = kf, scoring = 'accuracy'))\n",
    "    \n",
    "#print(cvs)\n",
    "sred = []\n",
    "sred_2 = []\n",
    "for i in range(len(cvs)):\n",
    "    sred.append(np.mean(cvs[i]))\n",
    "    sred_2.append(np.mean(scale(cvs_2[i])))\n",
    "\n",
    "print(np.argmax(sred))\n",
    "\n",
    "print(np.argmax(sred_2))\n",
    "\n",
    "print(sred[28])"
   ]
  },
  {
   "cell_type": "code",
   "execution_count": null,
   "metadata": {},
   "outputs": [],
   "source": []
  },
  {
   "cell_type": "code",
   "execution_count": null,
   "metadata": {},
   "outputs": [],
   "source": []
  }
 ],
 "metadata": {
  "kernelspec": {
   "display_name": "Python 3",
   "language": "python",
   "name": "python3"
  },
  "language_info": {
   "codemirror_mode": {
    "name": "ipython",
    "version": 3
   },
   "file_extension": ".py",
   "mimetype": "text/x-python",
   "name": "python",
   "nbconvert_exporter": "python",
   "pygments_lexer": "ipython3",
   "version": "3.5.6"
  }
 },
 "nbformat": 4,
 "nbformat_minor": 2
}
