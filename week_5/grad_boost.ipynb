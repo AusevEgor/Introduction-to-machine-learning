{
 "cells": [
  {
   "cell_type": "code",
   "execution_count": 93,
   "metadata": {},
   "outputs": [],
   "source": [
    "import pandas\n",
    "import numpy as np\n",
    "from sklearn.cross_validation import train_test_split\n",
    "from sklearn.ensemble import GradientBoostingClassifier\n",
    "from sklearn.ensemble import RandomForestClassifier\n",
    "from sklearn.metrics import log_loss\n",
    "import matplotlib.pyplot as plt"
   ]
  },
  {
   "cell_type": "code",
   "execution_count": 22,
   "metadata": {},
   "outputs": [],
   "source": [
    "target = (pandas.read_csv('gbm-data.csv', usecols=[0]))\n",
    "features = pandas.read_csv('gbm-data.csv', usecols = (range(1,1777)))\n",
    "target = np.array(target)\n",
    "features = np.array(features)"
   ]
  },
  {
   "cell_type": "code",
   "execution_count": 29,
   "metadata": {},
   "outputs": [],
   "source": [
    "x_train, x_test, y_train, y_test = train_test_split(features, target,\n",
    "                                                    test_size = 0.8, random_state = 241)"
   ]
  },
  {
   "cell_type": "code",
   "execution_count": 30,
   "metadata": {},
   "outputs": [
    {
     "name": "stdout",
     "output_type": "stream",
     "text": [
      "(750, 1776) (750, 1)\n",
      "(3001, 1776) (3001, 1)\n"
     ]
    }
   ],
   "source": [
    "print(x_train.shape, y_train.shape)\n",
    "print(x_test.shape, y_test.shape)"
   ]
  },
  {
   "cell_type": "code",
   "execution_count": 34,
   "metadata": {},
   "outputs": [],
   "source": [
    "clf_1= GradientBoostingClassifier(n_estimators=250, verbose=True, random_state=241,\n",
    "                                  learning_rate=1)\n",
    "clf_05= GradientBoostingClassifier(n_estimators=250, verbose=True, random_state=241,\n",
    "                                  learning_rate=0.5)\n",
    "clf_03= GradientBoostingClassifier(n_estimators=250, verbose=True, random_state=241,\n",
    "                                  learning_rate=0.3)\n",
    "clf_02= GradientBoostingClassifier(n_estimators=250, verbose=True, random_state=241,\n",
    "                                  learning_rate=0.2)\n",
    "clf_01= GradientBoostingClassifier(n_estimators=250, verbose=True, random_state=241,\n",
    "                                  learning_rate=0.1)"
   ]
  },
  {
   "cell_type": "code",
   "execution_count": 35,
   "metadata": {},
   "outputs": [
    {
     "name": "stderr",
     "output_type": "stream",
     "text": [
      "/home/egor/anaconda3/lib/python3.5/site-packages/sklearn/utils/validation.py:578: DataConversionWarning: A column-vector y was passed when a 1d array was expected. Please change the shape of y to (n_samples, ), for example using ravel().\n",
      "  y = column_or_1d(y, warn=True)\n"
     ]
    },
    {
     "name": "stdout",
     "output_type": "stream",
     "text": [
      "      Iter       Train Loss   Remaining Time \n",
      "         1           1.0190           20.29s\n",
      "         2           0.9192           18.81s\n",
      "         3           0.8272           17.51s\n",
      "         4           0.7834           17.01s\n",
      "         5           0.7109           17.13s\n",
      "         6           0.6368           17.58s\n",
      "         7           0.5797           17.43s\n",
      "         8           0.5610           16.92s\n",
      "         9           0.5185           16.85s\n",
      "        10           0.4984           16.57s\n",
      "        20           0.1999           16.72s\n",
      "        30           0.1313           15.74s\n",
      "        40           0.0790           14.46s\n",
      "        50           0.0511           13.96s\n",
      "        60           0.0352           13.05s\n",
      "        70           0.0245           12.08s\n",
      "        80           0.0162           11.32s\n",
      "        90           0.0114           10.54s\n",
      "       100           0.0077            9.73s\n",
      "       200           0.0004            2.81s\n",
      "      Iter       Train Loss   Remaining Time \n",
      "         1           1.1255           18.95s\n",
      "         2           1.0035           18.86s\n",
      "         3           0.9386           19.11s\n",
      "         4           0.8844           17.96s\n",
      "         5           0.8381           17.44s\n",
      "         6           0.7995           17.19s\n",
      "         7           0.7559           16.76s\n",
      "         8           0.7205           16.56s\n",
      "         9           0.6958           16.82s\n",
      "        10           0.6725           17.14s\n",
      "        20           0.4672           15.60s\n",
      "        30           0.3179           15.50s\n",
      "        40           0.2274           15.01s\n",
      "        50           0.1774           14.44s\n",
      "        60           0.1394           13.61s\n",
      "        70           0.1050           12.79s\n",
      "        80           0.0805           12.08s\n",
      "        90           0.0650           11.36s\n",
      "       100           0.0511           10.50s\n",
      "       200           0.0058            3.38s\n",
      "      Iter       Train Loss   Remaining Time \n",
      "         1           1.2095           23.18s\n",
      "         2           1.1006           23.02s\n",
      "         3           1.0240           22.10s\n",
      "         4           0.9729           21.17s\n",
      "         5           0.9387           19.67s\n",
      "         6           0.8948           19.59s\n",
      "         7           0.8621           19.05s\n",
      "         8           0.8360           18.53s\n",
      "         9           0.8171           18.14s\n",
      "        10           0.7883           18.23s\n",
      "        20           0.6164           16.62s\n",
      "        30           0.4933           15.47s\n",
      "        40           0.4248           14.74s\n",
      "        50           0.3345           14.05s\n",
      "        60           0.2760           13.00s\n",
      "        70           0.2263           12.26s\n",
      "        80           0.1971           11.70s\n",
      "        90           0.1693           11.26s\n",
      "       100           0.1388           10.61s\n",
      "       200           0.0294            3.36s\n",
      "      Iter       Train Loss   Remaining Time \n",
      "         1           1.2613           19.54s\n",
      "         2           1.1715           19.63s\n",
      "         3           1.1009           20.03s\n",
      "         4           1.0529           19.96s\n",
      "         5           1.0130           20.80s\n",
      "         6           0.9740           21.24s\n",
      "         7           0.9475           20.84s\n",
      "         8           0.9197           21.01s\n",
      "         9           0.8979           20.15s\n",
      "        10           0.8730           20.03s\n",
      "        20           0.7207           16.87s\n",
      "        30           0.6055           15.62s\n",
      "        40           0.5244           14.87s\n",
      "        50           0.4501           14.70s\n",
      "        60           0.3908           13.76s\n",
      "        70           0.3372           12.74s\n",
      "        80           0.3009           12.07s\n",
      "        90           0.2603           11.44s\n",
      "       100           0.2327           10.56s\n",
      "       200           0.0835            3.36s\n",
      "      Iter       Train Loss   Remaining Time \n",
      "         1           1.3199           18.77s\n",
      "         2           1.2645           17.93s\n",
      "         3           1.2170           17.56s\n",
      "         4           1.1775           17.76s\n",
      "         5           1.1404           17.51s\n",
      "         6           1.1106           17.72s\n",
      "         7           1.0844           17.80s\n",
      "         8           1.0617           17.85s\n",
      "         9           1.0411           18.03s\n",
      "        10           1.0223           18.01s\n",
      "        20           0.8864           16.70s\n",
      "        30           0.7844           15.24s\n",
      "        40           0.7176           13.80s\n",
      "        50           0.6590           12.97s\n",
      "        60           0.6120           12.24s\n",
      "        70           0.5599           11.43s\n",
      "        80           0.5242           10.74s\n",
      "        90           0.4829           10.10s\n",
      "       100           0.4473            9.40s\n",
      "       200           0.2379            3.06s\n"
     ]
    },
    {
     "data": {
      "text/plain": [
       "GradientBoostingClassifier(criterion='friedman_mse', init=None,\n",
       "              learning_rate=0.1, loss='deviance', max_depth=3,\n",
       "              max_features=None, max_leaf_nodes=None,\n",
       "              min_impurity_decrease=0.0, min_impurity_split=None,\n",
       "              min_samples_leaf=1, min_samples_split=2,\n",
       "              min_weight_fraction_leaf=0.0, n_estimators=250,\n",
       "              presort='auto', random_state=241, subsample=1.0,\n",
       "              verbose=True, warm_start=False)"
      ]
     },
     "execution_count": 35,
     "metadata": {},
     "output_type": "execute_result"
    }
   ],
   "source": [
    "clf_1.fit(x_train, y_train)\n",
    "clf_05.fit(x_train, y_train)\n",
    "clf_03.fit(x_train, y_train)\n",
    "clf_02.fit(x_train, y_train)\n",
    "clf_01.fit(x_train, y_train)"
   ]
  },
  {
   "cell_type": "code",
   "execution_count": 91,
   "metadata": {},
   "outputs": [],
   "source": [
    "def loss_plot(clf, f_train, f_test, t_train, t_test):\n",
    "    f_1 = enumerate(clf.staged_decision_function(X= f_train))\n",
    "    f_2 = enumerate(clf.staged_decision_function(X= f_test))\n",
    "    y_pred_train = []\n",
    "    y_pred_test = []\n",
    "    for i, y in f_1:\n",
    "        y_pred_train.append(1/(1+np.exp(-y)))\n",
    "    for i, y in f_2:\n",
    "        y_pred_test.append(1/(1+np.exp(-y)))\n",
    "    y_pred_train = np.array(y_pred_train)\n",
    "    y_pred_test = np.array(y_pred_test)\n",
    "    \n",
    "    \n",
    "    loss_train = []\n",
    "    for i in range(len(y_pred_train)):\n",
    "        loss_train.append(log_loss(t_train, y_pred_train[i]))\n",
    "    loss_test = []\n",
    "    l = 1000\n",
    "    k = 0\n",
    "    for i in range(len(y_pred_train)):\n",
    "        loss_test.append(log_loss(t_test, y_pred_test[i]))\n",
    "        if l >= loss_test[i]:\n",
    "            l = loss_test[i]\n",
    "            k = i+1\n",
    "    plt.figure()\n",
    "    plt.plot(loss_test, 'r', linewidth = 1)\n",
    "    plt.plot(loss_train, 'b', linewidth = 1)\n",
    "    plt.legend(['test', 'train'])\n",
    "    print(l, k)"
   ]
  },
  {
   "cell_type": "code",
   "execution_count": 92,
   "metadata": {},
   "outputs": [
    {
     "name": "stdout",
     "output_type": "stream",
     "text": [
      "0.5314507963190638 37\n"
     ]
    },
    {
     "data": {
      "image/png": "[encoded data removed]",
      "text/plain": [
       "<Figure size 432x288 with 1 Axes>"
      ]
     },
     "metadata": {
      "needs_background": "light"
     },
     "output_type": "display_data"
    }
   ],
   "source": [
    "loss_plot(clf_02, x_train, x_test, y_train, y_test)"
   ]
  },
  {
   "cell_type": "code",
   "execution_count": 94,
   "metadata": {},
   "outputs": [],
   "source": [
    "clf = RandomForestClassifier(n_estimators=37, random_state=241)"
   ]
  },
  {
   "cell_type": "code",
   "execution_count": 101,
   "metadata": {},
   "outputs": [
    {
     "name": "stderr",
     "output_type": "stream",
     "text": [
      "/home/egor/anaconda3/lib/python3.5/site-packages/ipykernel/__main__.py:1: DataConversionWarning: A column-vector y was passed when a 1d array was expected. Please change the shape of y to (n_samples,), for example using ravel().\n",
      "  if __name__ == '__main__':\n"
     ]
    },
    {
     "name": "stdout",
     "output_type": "stream",
     "text": [
      "0.5409119099369897\n"
     ]
    }
   ],
   "source": [
    "clf.fit(x_train, y_train)\n",
    "predict = clf.predict_proba(x_test)\n",
    "los = log_loss(y_test, predict)\n",
    "print(los)"
   ]
  },
  {
   "cell_type": "code",
   "execution_count": null,
   "metadata": {},
   "outputs": [],
   "source": []
  }
 ],
 "metadata": {
  "kernelspec": {
   "display_name": "Python 3",
   "language": "python",
   "name": "python3"
  },
  "language_info": {
   "codemirror_mode": {
    "name": "ipython",
    "version": 3
   },
   "file_extension": ".py",
   "mimetype": "text/x-python",
   "name": "python",
   "nbconvert_exporter": "python",
   "pygments_lexer": "ipython3",
   "version": "3.5.6"
  }
 },
 "nbformat": 4,
 "nbformat_minor": 2
}
